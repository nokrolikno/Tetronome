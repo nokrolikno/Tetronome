{
 "cells": [
  {
   "cell_type": "code",
   "execution_count": null,
   "id": "7ba2d9bc-b941-41a3-b80f-3379f4503709",
   "metadata": {},
   "outputs": [],
   "source": [
    "import numpy as np\n",
    "from scipy.io import wavfile\n",
    "from scipy.signal import find_peaks\n",
    "import matplotlib.pyplot as plt"
   ]
  },
  {
   "cell_type": "code",
   "execution_count": null,
   "id": "25ef7d18-fdae-4792-98e8-84143521f861",
   "metadata": {},
   "outputs": [],
   "source": [
    "MUSIC_PATH = './samples/Imagine_Dragons_Converted.wav'"
   ]
  },
  {
   "cell_type": "code",
   "execution_count": null,
   "id": "e459f889-cf9d-45f3-a27a-62e7eb7e8766",
   "metadata": {},
   "outputs": [],
   "source": [
    "import librosa"
   ]
  },
  {
   "cell_type": "code",
   "execution_count": null,
   "id": "a0141de5-581f-4294-9a6a-a00100f7d441",
   "metadata": {},
   "outputs": [],
   "source": [
    "y , sr = librosa.load(MUSIC_PATH, sr=44100)"
   ]
  },
  {
   "cell_type": "code",
   "execution_count": null,
   "id": "bc580d7e-7ac3-4d10-942a-7f9cb79c2515",
   "metadata": {},
   "outputs": [],
   "source": [
    "y"
   ]
  },
  {
   "cell_type": "code",
   "execution_count": null,
   "id": "dff58d0c-0da0-48ba-a8d1-4ec640f00a4a",
   "metadata": {},
   "outputs": [],
   "source": [
    "sr"
   ]
  },
  {
   "cell_type": "code",
   "execution_count": null,
   "id": "009c6837-f650-4d13-a29e-e7fbbe7d5079",
   "metadata": {},
   "outputs": [],
   "source": [
    "seconds = len(y) / sr\n",
    "seconds"
   ]
  },
  {
   "cell_type": "code",
   "execution_count": null,
   "id": "fc1884e6-ed55-46cd-a542-a24711634333",
   "metadata": {},
   "outputs": [],
   "source": [
    "import IPython.display as ipd\n",
    "ipd.Audio(MUSIC_PATH)"
   ]
  },
  {
   "cell_type": "markdown",
   "id": "3f2d6042-7089-4fc5-90b9-6696b9521f82",
   "metadata": {},
   "source": [
    "### Определяем биты"
   ]
  },
  {
   "cell_type": "code",
   "execution_count": null,
   "id": "c9b92211-e331-4fca-b619-a3573336b54e",
   "metadata": {},
   "outputs": [],
   "source": [
    "tempo, beats = librosa.beat.beat_track(y=y, sr=sr)\n",
    "y_beats = librosa.clicks(frames=beats, sr=sr, length=len(y))\n",
    "beat_song = 0.5 * y + 0.5 * y_beats\n",
    "scaled = np.int16(beat_song / np.max(np.abs(beat_song)) * 32767)\n",
    "wavfile.write('beat_signal.wav', sr, scaled)"
   ]
  },
  {
   "cell_type": "code",
   "execution_count": null,
   "id": "25e2f77a-4553-495d-979a-d217b36f23e6",
   "metadata": {},
   "outputs": [],
   "source": [
    "def define_seconds_of_beat(y, sr):\n",
    "    tempo, beats = librosa.beat.beat_track(y=y, sr=sr)\n",
    "    return librosa.frames_to_time(beats)"
   ]
  },
  {
   "cell_type": "code",
   "execution_count": null,
   "id": "d532d910-1a20-42a2-9317-feecd9cfbb23",
   "metadata": {},
   "outputs": [],
   "source": [
    "beat_seconds = define_seconds_of_beat(y, sr)"
   ]
  },
  {
   "cell_type": "markdown",
   "id": "a0947dd2-45d5-4aaf-8538-279f836e9e1c",
   "metadata": {},
   "source": [
    "### Определяем сегменты мелодии"
   ]
  },
  {
   "cell_type": "code",
   "execution_count": null,
   "id": "0542b9bc-31a6-475c-9fc8-2211d0a25bf6",
   "metadata": {},
   "outputs": [],
   "source": [
    "tempo, beats = librosa.beat.beat_track(y=y, sr=sr, hop_length=512)\n",
    "beat_times = librosa.frames_to_time(beats, sr=sr, hop_length=512)\n",
    "cqt = np.abs(librosa.cqt(y, sr=sr, hop_length=512))\n",
    "subseg = librosa.segment.subsegment(cqt, beats, n_segments=2)\n",
    "y_melody = librosa.clicks(frames=subseg, sr=sr, length=len(y))\n",
    "melody_song = 0.5 * y + 0.5 * y_melody\n",
    "scaled = np.int16(melody_song / np.max(np.abs(melody_song)) * 32767)\n",
    "wavfile.write('melody_signal.wav', sr, scaled)"
   ]
  },
  {
   "cell_type": "code",
   "execution_count": null,
   "id": "248c6cd4-ffdb-4fa5-a9ec-710d2c3b2269",
   "metadata": {},
   "outputs": [],
   "source": [
    "def define_seconds_of_melody(y, sr):\n",
    "    tempo, beats = librosa.beat.beat_track(y=y, sr=sr, hop_length=512)\n",
    "    beat_times = librosa.frames_to_time(beats, sr=sr, hop_length=512)\n",
    "    cqt = np.abs(librosa.cqt(y, sr=sr, hop_length=512))\n",
    "    subseg = librosa.segment.subsegment(cqt, beats, n_segments=3)\n",
    "    subseg_t = librosa.frames_to_time(subseg, sr=sr, hop_length=512)\n",
    "    return subseg_t"
   ]
  },
  {
   "cell_type": "markdown",
   "id": "75d4cb2f-985c-4c12-b123-88d8da419e96",
   "metadata": {},
   "source": [
    "### Определяем интенсивные моменты"
   ]
  },
  {
   "cell_type": "code",
   "execution_count": null,
   "id": "c432b9ed-653a-4710-afbe-7a39d9c57111",
   "metadata": {},
   "outputs": [],
   "source": [
    "FRAME_SIZE = 1024\n",
    "HOP_LENGTH = 512\n",
    "\n",
    "def amplitude_envelope(y, frame_size, hop_length):\n",
    "    amplitude_envelope = []\n",
    "    for i in range(0, len(y), hop_length):\n",
    "        current_frame_amplitude_envelope = max(y[i:i+frame_size])\n",
    "        amplitude_envelope.append(current_frame_amplitude_envelope)\n",
    "    return np.array(amplitude_envelope)"
   ]
  },
  {
   "cell_type": "code",
   "execution_count": null,
   "id": "9dd68516-3564-40a1-bdcd-a009537f3065",
   "metadata": {},
   "outputs": [],
   "source": [
    "ae = amplitude_envelope(y, FRAME_SIZE, HOP_LENGTH)"
   ]
  },
  {
   "cell_type": "code",
   "execution_count": null,
   "id": "ba96b286-12b4-44f5-a917-7d4b7dc9976f",
   "metadata": {},
   "outputs": [],
   "source": [
    "frames = range(0, ae.size)\n",
    "t = librosa.frames_to_time(frames, hop_length=HOP_LENGTH)"
   ]
  },
  {
   "cell_type": "code",
   "execution_count": null,
   "id": "37034e74-0885-4378-8738-497a23f25f8c",
   "metadata": {},
   "outputs": [],
   "source": [
    "import collections\n",
    "from itertools import islice\n",
    "\n",
    "def sliding_window(iterable, n):\n",
    "    \"Collect data into overlapping fixed-length chunks or blocks.\"\n",
    "    # sliding_window('ABCDEFG', 4) --> ABCD BCDE CDEF DEFG\n",
    "    it = iter(iterable)\n",
    "    window = collections.deque(islice(it, n-1), maxlen=n)\n",
    "    for x in it:\n",
    "        window.append(x)\n",
    "        yield tuple(window)\n",
    "\n",
    "plt.figure(figsize=(15,5))\n",
    "plt.plot(t, ae)\n",
    "mean_arr = [0]\n",
    "n = 100\n",
    "for elems in sliding_window(ae, n):\n",
    "    mean_arr.append(np.mean(elems))\n",
    "mean_arr.extend([0] * (n-2))\n",
    "mean_arr = np.array(mean_arr)\n",
    "mean_arr += 1\n",
    "plt.plot(t, mean_arr-1)"
   ]
  },
  {
   "cell_type": "code",
   "execution_count": null,
   "id": "9080cc27-8dc5-44bf-ac55-9508b679563c",
   "metadata": {},
   "outputs": [],
   "source": [
    "plt.figure(figsize=(15,5))\n",
    "# plt.plot(t, mean_arr)\n",
    "volume = np.power(10000, mean_arr)\n",
    "mean_vol = [0]\n",
    "n = 3\n",
    "for elems in sliding_window(volume, n):\n",
    "    mean_vol.append(np.mean(elems))\n",
    "mean_vol.extend([0] * (n-2))\n",
    "mean_vol = np.array(mean_vol)\n",
    "normalized_vol = np.abs(mean_vol / np.max(mean_vol))\n",
    "plt.plot(t, normalized_vol)\n",
    "peaks, _ = find_peaks(normalized_vol)\n",
    "peaks_t = librosa.frames_to_time(peaks)\n",
    "plt.plot(peaks_t, normalized_vol[peaks], \"x\")"
   ]
  },
  {
   "cell_type": "code",
   "execution_count": null,
   "id": "0f1a0fc5-6f7e-48c2-81c0-400508c5a945",
   "metadata": {},
   "outputs": [],
   "source": [
    "np.argmax(normalized_vol)\n",
    "len(normalized_vol)"
   ]
  },
  {
   "cell_type": "code",
   "execution_count": null,
   "id": "2649d3ac-79f6-4845-8765-b5a66342ebde",
   "metadata": {},
   "outputs": [],
   "source": [
    "y_new = []\n",
    "for t_new in np.linspace(t[0], t[-1], num=len(y)):\n",
    "    y_new.append(np.interp(t_new, t, normalized_vol))"
   ]
  },
  {
   "cell_type": "code",
   "execution_count": null,
   "id": "8e6c85ca-060e-4f1d-bb2e-f877b5cdfe37",
   "metadata": {},
   "outputs": [],
   "source": [
    "y_new = np.array(y_new)\n",
    "plt.plot(y_new * y)\n",
    "scaled = np.int16(y_new * y / np.max(np.abs(y_new * y)) * 32767)\n",
    "wavfile.write('sample_with_vol_scaling.wav', sr, scaled)"
   ]
  },
  {
   "cell_type": "code",
   "execution_count": null,
   "id": "ddda8045-336e-4e45-b330-cf1f5805a131",
   "metadata": {},
   "outputs": [],
   "source": [
    "ipd.Audio('sample_with_vol_scaling.wav')"
   ]
  },
  {
   "cell_type": "markdown",
   "id": "1980739d-c922-4062-9c17-c0ffdee1a61f",
   "metadata": {},
   "source": [
    "### MP3 to WAV"
   ]
  },
  {
   "cell_type": "code",
   "execution_count": null,
   "id": "f5b38900-e1ed-4bf1-b3e8-328be20cf7d2",
   "metadata": {},
   "outputs": [],
   "source": [
    "from pydub import AudioSegment\n",
    "INPUT_PATH = 'samples/Jamie_Christopherson_-_Rules_of_Nature_OST_Metal_Gear_Rising_Revengeance_73652795.mp3'\n",
    "OUTPUT_PATH = 'samples/Jamie_Christopherson_-_Rules_of_Nature_OST_Metal_Gear_Rising_Revengeance_73652795.wav'\n",
    "sound = AudioSegment.from_mp3(INPUT_PATH)\n",
    "sound.export(OUTPUT_PATH, format=\"wav\")"
   ]
  },
  {
   "cell_type": "code",
   "execution_count": null,
   "id": "7e0a1ab8-3921-4617-85c3-a3877c9356af",
   "metadata": {},
   "outputs": [],
   "source": [
    "ipd.Audio(OUTPUT_PATH)"
   ]
  },
  {
   "cell_type": "code",
   "execution_count": null,
   "id": "8c9147be-8a81-4165-bbf9-070b77277da4",
   "metadata": {},
   "outputs": [],
   "source": []
  }
 ],
 "metadata": {
  "kernelspec": {
   "display_name": "Python 3 (ipykernel)",
   "language": "python",
   "name": "python3"
  },
  "language_info": {
   "codemirror_mode": {
    "name": "ipython",
    "version": 3
   },
   "file_extension": ".py",
   "mimetype": "text/x-python",
   "name": "python",
   "nbconvert_exporter": "python",
   "pygments_lexer": "ipython3",
   "version": "3.9.2"
  }
 },
 "nbformat": 4,
 "nbformat_minor": 5
}
