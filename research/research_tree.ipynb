{
 "cells": [
  {
   "cell_type": "code",
   "execution_count": 1,
   "id": "79a670c1-5d45-4ed8-959f-96b362d42000",
   "metadata": {},
   "outputs": [],
   "source": [
    "# Stores the maximum sum of a path\n",
    "maxSumPath = 0\n",
    " \n",
    "# Structure of a node in the tree\n",
    "class Node:\n",
    "    def __init__(self, key):\n",
    "        self.val = key\n",
    "        self.child = []\n",
    "\n",
    "    def __repr__(self):\n",
    "        return str(self.val)\n",
    " \n",
    "# Utility function to create a\n",
    "# new node in the tree\n",
    "def new_node(key):\n",
    "    temp = Node(key)\n",
    "    return temp\n",
    " \n",
    "# Recursive function to calculate the\n",
    "# maximum sum in a path using DFS\n",
    "def DFS(node, cur_sum, path):\n",
    "    if not node.child:\n",
    "        return node.val + cur_sum, [node]\n",
    "\n",
    "    best_node = node.child[0]\n",
    "    best_val = -999\n",
    "    best_path = []\n",
    "    for c in node.child:\n",
    "        val, cur_path = DFS(c, cur_sum, path)\n",
    "        if val > best_val:\n",
    "            best_val = val\n",
    "            best_node = c\n",
    "            best_path = cur_path\n",
    "    best_path.append(node)\n",
    "    return best_val + node.val, best_path\n",
    "    "
   ]
  },
  {
   "cell_type": "code",
   "execution_count": 2,
   "id": "c8c8f768-df23-4681-89fb-7402c1611603",
   "metadata": {},
   "outputs": [],
   "source": [
    "root = new_node(1)\n",
    "root.child.append(new_node(2))\n",
    "root.child.append(new_node(3))\n",
    "root.child[0].child.append(new_node(4))\n",
    "root.child[1].child.append(new_node(6))\n",
    "root.child[0].child.append(new_node(5))\n",
    "root.child[1].child.append(new_node(7))\n",
    "root.child[1].child.append(new_node(8))"
   ]
  },
  {
   "cell_type": "code",
   "execution_count": 3,
   "id": "bb952f8f-45b4-4bfc-b33e-c752d94d5bd2",
   "metadata": {},
   "outputs": [],
   "source": [
    "path = []\n",
    "result = DFS(root, root.val, path)\n",
    "assert str(result) == str((13, [8, 3, 1]))"
   ]
  },
  {
   "cell_type": "markdown",
   "id": "17319e49-09d2-4225-9a48-edb7ec72298d",
   "metadata": {},
   "source": [
    "### Benchmark"
   ]
  },
  {
   "cell_type": "code",
   "execution_count": 12,
   "id": "cf7b083c-3804-4ab6-812c-bb2cf3bef2ca",
   "metadata": {},
   "outputs": [
    {
     "ename": "KeyboardInterrupt",
     "evalue": "",
     "output_type": "error",
     "traceback": [
      "\u001b[1;31m---------------------------------------------------------------------------\u001b[0m",
      "\u001b[1;31mKeyboardInterrupt\u001b[0m                         Traceback (most recent call last)",
      "Cell \u001b[1;32mIn[12], line 7\u001b[0m\n\u001b[0;32m      5\u001b[0m queue \u001b[38;5;241m=\u001b[39m [(root, \u001b[38;5;241m0\u001b[39m)]\n\u001b[0;32m      6\u001b[0m \u001b[38;5;28;01mwhile\u001b[39;00m queue:\n\u001b[1;32m----> 7\u001b[0m     node, depth \u001b[38;5;241m=\u001b[39m queue\u001b[38;5;241m.\u001b[39mpop(\u001b[38;5;241m0\u001b[39m)\n\u001b[0;32m      8\u001b[0m     new_nodes \u001b[38;5;241m=\u001b[39m [new_node(random\u001b[38;5;241m.\u001b[39mrandom()) \u001b[38;5;28;01mfor\u001b[39;00m i \u001b[38;5;129;01min\u001b[39;00m \u001b[38;5;28mrange\u001b[39m(\u001b[38;5;241m9\u001b[39m \u001b[38;5;241m+\u001b[39m \u001b[38;5;241m7\u001b[39m \u001b[38;5;241m+\u001b[39m \u001b[38;5;241m1\u001b[39m)]\n\u001b[0;32m      9\u001b[0m     node\u001b[38;5;241m.\u001b[39mchild \u001b[38;5;241m=\u001b[39m new_nodes\n",
      "\u001b[1;31mKeyboardInterrupt\u001b[0m: "
     ]
    }
   ],
   "source": [
    "import random\n",
    "random.seed = 42\n",
    "\n",
    "root = new_node(1)\n",
    "queue = [(root, 0)]\n",
    "while queue:\n",
    "    node, depth = queue.pop(0)\n",
    "    new_nodes = [new_node(random.random()) for i in range(9 + 7 + 1)]\n",
    "    node.child = new_nodes\n",
    "    for n in new_nodes:\n",
    "        if depth + 1 > 50:\n",
    "            continue\n",
    "        queue.append((n, depth+1))"
   ]
  },
  {
   "cell_type": "code",
   "execution_count": null,
   "id": "56b71648-b6ce-437d-9057-45ce379edbba",
   "metadata": {},
   "outputs": [],
   "source": []
  }
 ],
 "metadata": {
  "kernelspec": {
   "display_name": "Python 3 (ipykernel)",
   "language": "python",
   "name": "python3"
  },
  "language_info": {
   "codemirror_mode": {
    "name": "ipython",
    "version": 3
   },
   "file_extension": ".py",
   "mimetype": "text/x-python",
   "name": "python",
   "nbconvert_exporter": "python",
   "pygments_lexer": "ipython3",
   "version": "3.9.2"
  }
 },
 "nbformat": 4,
 "nbformat_minor": 5
}
